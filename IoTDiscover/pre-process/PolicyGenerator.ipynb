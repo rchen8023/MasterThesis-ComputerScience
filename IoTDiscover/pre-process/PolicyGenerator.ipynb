{
 "cells": [
  {
   "cell_type": "code",
   "execution_count": 1,
   "id": "b7f2ca9c",
   "metadata": {},
   "outputs": [
    {
     "name": "stdout",
     "output_type": "stream",
     "text": [
      "[{'permission': 'Deny', 'rule': {'ruleID': 'rule188', 'appName': 'Its Too Hot', 'action_cmd': 'sending_sms', 'action_device': 'its-too-hot', 'trigger_device': 'temp', 'trigger_attr': 'temperature'}, 'condition': None}, {'permission': 'Deny', 'rule': {'ruleID': 'rule186', 'appName': 'Its Too Cold', 'action_cmd': 'sending_sms', 'action_device': 'its-too-cold', 'trigger_device': 'temp', 'trigger_attr': 'temperature'}, 'condition': None}, {'permission': 'Allow', 'rule': {'ruleID': 'rule52', 'appName': 'Darken Behind Me', 'action_cmd': 'off', 'action_device': 'smart-plug-1', 'trigger_device': 'HueMotionSensor1', 'trigger_attr': 'motion.inactive'}, 'condition': None}, {'permission': 'Allow', 'rule': {'ruleID': 'rule189', 'appName': 'Its Too Hot', 'action_cmd': 'on', 'action_device': 'fan', 'trigger_device': 'temp', 'trigger_attr': 'temperature >= 70'}, 'condition': None}, {'permission': 'Allow', 'rule': {'ruleID': 'rule190', 'appName': 'Its Too Hot', 'action_cmd': 'sending_notification', 'action_device': 'its-too-hot', 'trigger_device': 'temp', 'trigger_attr': 'temperature'}, 'condition': None}, {'permission': 'Allow', 'rule': {'ruleID': 'rule187', 'appName': 'Its Too Cold', 'action_cmd': 'sending_notification', 'action_device': 'its-too-cold', 'trigger_device': 'temp', 'trigger_attr': 'temperature'}, 'condition': None}, {'permission': 'Allow', 'rule': {'ruleID': 'rule185', 'appName': 'Its Too Cold', 'action_cmd': 'on', 'action_device': 'heater', 'trigger_device': 'temp', 'trigger_attr': 'temperature <= 70'}, 'condition': None}, {'permission': 'Allow', 'rule': {'ruleID': 'rule0', 'appName': 'OpenWindow', 'action_cmd': 'on', 'action_device': 'smart-plug-2', 'trigger_device': 'smart-plug-1', 'trigger_attr': 'switch.on'}, 'condition': {'condition_device': 'fan', 'condition_cmd': 'on', 'condition_state': 'is', 'condition_time': None}}, {'permission': 'Allow', 'rule': {'ruleID': 'rule36', 'appName': 'Brighten My Path', 'action_cmd': 'on', 'action_device': 'smart-plug-1', 'trigger_device': 'HueMotionSensor1', 'trigger_attr': 'motion.active'}, 'condition': None}]\n"
     ]
    }
   ],
   "source": [
    "import json\n",
    "import re\n",
    "\n",
    "message = [ {\"permission\": \"Deny\", \"rule\": {\"ruleID\":\"rule188\",\"appName\":\"Its Too Hot\",\"action_cmd\":\"sending_sms\",\"action_device\":\"its-too-hot\",\"trigger_device\":\"temp\",\"trigger_attr\":\"temperature\"}, \"condition\":None},{\"permission\": \"Deny\", \"rule\": {\"ruleID\":\"rule186\",\"appName\":\"Its Too Cold\",\"action_cmd\":\"sending_sms\",\"action_device\":\"its-too-cold\",\"trigger_device\":\"temp\",\"trigger_attr\":\"temperature\"}, \"condition\":None},{\"permission\": \"Allow\", \"rule\": {\"ruleID\":\"rule52\",\"appName\":\"Darken Behind Me\",\"action_cmd\":\"off\",\"action_device\":\"smart-plug-1\",\"trigger_device\":\"HueMotionSensor1\",\"trigger_attr\":\"motion.inactive\"}, \"condition\":None},{\"permission\": \"Allow\", \"rule\": {\"ruleID\":\"rule189\",\"appName\":\"Its Too Hot\",\"action_cmd\":\"on\",\"action_device\":\"fan\",\"trigger_device\":\"temp\",\"trigger_attr\":\"temperature >= 70\"}, \"condition\":None},{\"permission\": \"Allow\", \"rule\": {\"ruleID\":\"rule190\",\"appName\":\"Its Too Hot\",\"action_cmd\":\"sending_notification\",\"action_device\":\"its-too-hot\",\"trigger_device\":\"temp\",\"trigger_attr\":\"temperature\"}, \"condition\":None},{\"permission\": \"Allow\", \"rule\": {\"ruleID\":\"rule187\",\"appName\":\"Its Too Cold\",\"action_cmd\":\"sending_notification\",\"action_device\":\"its-too-cold\",\"trigger_device\":\"temp\",\"trigger_attr\":\"temperature\"}, \"condition\":None},{\"permission\": \"Allow\", \"rule\": {\"ruleID\":\"rule185\",\"appName\":\"Its Too Cold\",\"action_cmd\":\"on\",\"action_device\":\"heater\",\"trigger_device\":\"temp\",\"trigger_attr\":\"temperature <= 70\"}, \"condition\":None},{\"permission\": \"Allow\", \"rule\": {\"ruleID\":\"rule0\",\"appName\":\"OpenWindow\",\"action_cmd\":\"on\",\"action_device\":\"smart-plug-2\",\"trigger_device\":\"smart-plug-1\",\"trigger_attr\":\"switch.on\"}, \"condition\":{\"condition_device\":\"fan\", \"condition_cmd\":\"on\", \"condition_state\":\"is\", \"condition_time\":None}},{\"permission\": \"Allow\", \"rule\": {\"ruleID\":\"rule36\",\"appName\":\"Brighten My Path\",\"action_cmd\":\"on\",\"action_device\":\"smart-plug-1\",\"trigger_device\":\"HueMotionSensor1\",\"trigger_attr\":\"motion.active\"}, \"condition\":None}]\n",
    "\n",
    "#Policies = json.dumps(message)\n",
    "Policies = message\n",
    "print(Policies)"
   ]
  },
  {
   "cell_type": "code",
   "execution_count": 2,
   "id": "470233d0",
   "metadata": {},
   "outputs": [],
   "source": [
    "def findPolicyNumber(policies):\n",
    "    pattern = r'POLICY P'+ r'(\\d+)'\n",
    "    regex = re.compile(pattern,re.IGNORECASE)\n",
    "    match = regex.findall(policies)\n",
    "    if match:\n",
    "        return int(match[-1])\n",
    "    else:\n",
    "        return 0"
   ]
  },
  {
   "cell_type": "code",
   "execution_count": 3,
   "id": "e7bf4618",
   "metadata": {},
   "outputs": [],
   "source": [
    "def PolicyGenerator(policyRules,policyFile):\n",
    "    with open(policyFile,'r+') as policy:\n",
    "        policies = policy.read()\n",
    "        policyNumber = findPolicyNumber(policies)\n",
    "        for rule in policyRules:\n",
    "            policyNumber += 1\n",
    "            newPolicy = '\\n\\nPOLICY P' + str(policyNumber) + ':\\n'\n",
    "            newPolicy += rule['permission'].upper() + '\\t'\n",
    "            triggerAction = rule['rule']\n",
    "            condition = rule['condition']\n",
    "            if condition is None:\n",
    "                newPolicy += 'action_device = ' + triggerAction['action_device'] + ' AND\\n'\n",
    "                newPolicy += '\\t\\taction_command = ' + triggerAction['action_cmd'] + '\\n'\n",
    "                appName = triggerAction['appName'].replace(' ','-')\n",
    "                newPolicy += 'ONLY IF automation_unit = ' + appName.lower()\n",
    "            else:\n",
    "                newPolicy += 'action_device = ' + triggerAction['action_device'] + ' AND\\n'\n",
    "                newPolicy += '\\t\\taction_command = ' + triggerAction['action_cmd'] + '\\n'\n",
    "                conditionObject = condition['condition_device'].replace(' ','-')\n",
    "                \n",
    "                # conditin event could be numerical such as \"< 60\"\n",
    "                \n",
    "                if condition[\"condition_state\"] == \"is\":\n",
    "                    state = 'state(' + conditionObject + ') = ' + condition['condition_cmd']\n",
    "                else:\n",
    "                    state = 'state(' + conditionObject + ') != ' + condition['condition_cmd']\n",
    "                    \n",
    "                if condition['condition_time'] is None or condition['condition_time'].lower() == '0':\n",
    "                    newPolicy += 'ONLY IF ' + state\n",
    "                else:\n",
    "                    newPolicy += 'ONLY IF LASTLY(' + state + ') WITHIN [0,' + condition['condition_time'] + ']'\n",
    "            \n",
    "            \n",
    "            policy.write(newPolicy)\n",
    "        \n",
    "            \n",
    "\n",
    "policyFile = \"mypolicy_userDefined.pat\"\n",
    "PolicyGenerator(Policies,policyFile)"
   ]
  }
 ],
 "metadata": {
  "kernelspec": {
   "display_name": "Python 3",
   "language": "python",
   "name": "python3"
  },
  "language_info": {
   "codemirror_mode": {
    "name": "ipython",
    "version": 3
   },
   "file_extension": ".py",
   "mimetype": "text/x-python",
   "name": "python",
   "nbconvert_exporter": "python",
   "pygments_lexer": "ipython3",
   "version": "3.8.8"
  }
 },
 "nbformat": 4,
 "nbformat_minor": 5
}
